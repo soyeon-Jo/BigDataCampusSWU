{
 "cells": [
  {
   "cell_type": "markdown",
   "id": "1e70109e",
   "metadata": {},
   "source": [
    "# Device\n",
    "2021_summer_DataYouthCampus_SWU\n",
    "\n",
    "GPU로 사용하기<br>\n",
    "- tensorflow로 설치할 경우 CPU만 사용 가능\n",
    "- tensorflow-gpu로 설치할 경우 CPU, GPU 모두 사용 가능\n",
    "- with tf.device(\"디바이스 종류 및 번호\") 위의 코드를 통해, 연산이 실행되는 device를 지정할 수 있음\n",
    "- 같은 연산일지라도, CPU보다는 GPU에서 훨씬 빠른 속도를 보임\n",
    "- Colab에서 GPU 설정하기: 런타임 -> 런타임 유형 변경 -> 하드웨어 가속기 GPU로 세팅"
   ]
  },
  {
   "cell_type": "code",
   "execution_count": 2,
   "id": "e2a86c83",
   "metadata": {},
   "outputs": [
    {
     "name": "stderr",
     "output_type": "stream",
     "text": [
      "C:\\Users\\82104\\anaconda3\\lib\\site-packages\\numpy\\_distributor_init.py:30: UserWarning: loaded more than 1 DLL from .libs:\n",
      "C:\\Users\\82104\\anaconda3\\lib\\site-packages\\numpy\\.libs\\libopenblas.PYQHXLVVQ7VESDPUVUADXEVJOBGHJPAY.gfortran-win_amd64.dll\n",
      "C:\\Users\\82104\\anaconda3\\lib\\site-packages\\numpy\\.libs\\libopenblas.WCDJNK7YVMPZQ2ME2ZZHJJRJ3JIKNDB7.gfortran-win_amd64.dll\n",
      "  warnings.warn(\"loaded more than 1 DLL from .libs:\"\n"
     ]
    },
    {
     "name": "stdout",
     "output_type": "stream",
     "text": [
      "[PhysicalDevice(name='/physical_device:CPU:0', device_type='CPU')]\n",
      "On CPU:\n",
      "100 loops: 7470.07ms\n",
      "[]\n"
     ]
    }
   ],
   "source": [
    "import tensorflow as tf\n",
    "import time\n",
    "\n",
    "def time_matmul(x):\n",
    "  start = time.time()\n",
    "  for loop in range(100):\n",
    "    tf.matmul(x, x)\n",
    "\n",
    "  result = time.time()-start\n",
    "  print(\"100 loops: {:0.2f}ms\".format(1000*result))\n",
    "\n",
    "# CPU에서 강제 실행합니다.\n",
    "print(tf.config.list_physical_devices('CPU'))\n",
    "if tf.config.list_physical_devices('CPU'):\n",
    "  print(\"On CPU:\")\n",
    "  with tf.device(\"CPU:0\"):\n",
    "    x = tf.random.uniform([1000, 1000])\n",
    "    assert x.device.endswith(\"CPU:0\")\n",
    "    time_matmul(x)\n",
    "\n",
    "# GPU #0가 이용가능시 GPU #0에서 강제 실행합니다.\n",
    "print(tf.config.list_physical_devices('GPU'))\n",
    "if tf.config.list_physical_devices('GPU'):\n",
    "  print(\"On GPU:\")\n",
    "  with tf.device(\"GPU:0\"): # Or GPU:1 for the 2nd GPU, GPU:2 for the 3rd etc.\n",
    "    x = tf.random.uniform([1000, 1000])\n",
    "    assert x.device.endswith(\"GPU:0\")\n",
    "    time_matmul(x)"
   ]
  },
  {
   "cell_type": "code",
   "execution_count": null,
   "id": "e1b19c41",
   "metadata": {},
   "outputs": [],
   "source": []
  }
 ],
 "metadata": {
  "kernelspec": {
   "display_name": "Python 3",
   "language": "python",
   "name": "python3"
  },
  "language_info": {
   "codemirror_mode": {
    "name": "ipython",
    "version": 3
   },
   "file_extension": ".py",
   "mimetype": "text/x-python",
   "name": "python",
   "nbconvert_exporter": "python",
   "pygments_lexer": "ipython3",
   "version": "3.8.8"
  }
 },
 "nbformat": 4,
 "nbformat_minor": 5
}
