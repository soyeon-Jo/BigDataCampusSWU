{
  "nbformat": 4,
  "nbformat_minor": 0,
  "metadata": {
    "colab": {
      "name": "13_Text generation with an RNN (문제).ipynb의 사본",
      "provenance": [],
      "collapsed_sections": []
    },
    "kernelspec": {
      "name": "python3",
      "display_name": "Python 3"
    },
    "accelerator": "GPU"
  },
  "cells": [
    {
      "cell_type": "markdown",
      "metadata": {
        "id": "qV40U7mLZkN4"
      },
      "source": [
        "# Tensorflow 실습 : RNN을 이용한 텍스트 생성"
      ]
    },
    {
      "cell_type": "markdown",
      "metadata": {
        "id": "jcJihGy4bqCW"
      },
      "source": [
        "- 학습 속도를 위해, GPU를 사용하기를 권장"
      ]
    },
    {
      "cell_type": "code",
      "metadata": {
        "id": "KAgXBP8LtArB"
      },
      "source": [
        "import tensorflow as tf\n",
        "\n",
        "import numpy as np\n",
        "import os\n",
        "import time\n",
        "import matplotlib.pyplot as plt\n",
        "\n",
        "# history를 그래프로 그리기 위해 사용\n",
        "def plot_graphs(history, metric):\n",
        "  plt.plot(history.history[metric])\n",
        "  plt.plot(history.history['val_'+metric], '')\n",
        "  plt.xlabel(\"Epochs\")\n",
        "  plt.ylabel(metric)\n",
        "  plt.legend([metric, 'val_'+metric])\n",
        "  plt.show()"
      ],
      "execution_count": null,
      "outputs": []
    },
    {
      "cell_type": "markdown",
      "metadata": {
        "id": "Jx6UkuneSmBU"
      },
      "source": [
        "## Shakespeare's writing 데이터셋 "
      ]
    },
    {
      "cell_type": "markdown",
      "metadata": {
        "id": "h_QaFCx_juuI"
      },
      "source": [
        "- 이 데이터셋은 Shakespeare의 writing을 모아놓은 데이터셋\n",
        "- 본 실습에서는 해당 데이터셋을 이용하여, character level language model을 학습하고 이를 텍스트 생성에 활용하고자 함\n"
      ]
    },
    {
      "cell_type": "markdown",
      "metadata": {
        "id": "EHDoRoc5PKWz"
      },
      "source": [
        "### Download the Shakespeare dataset"
      ]
    },
    {
      "cell_type": "code",
      "metadata": {
        "id": "pD_55cOxLkAb",
        "colab": {
          "base_uri": "https://localhost:8080/"
        },
        "outputId": "08e6e400-4b57-4e64-f399-44632d353a77"
      },
      "source": [
        "path_to_file = tf.keras.utils.get_file('shakespeare.txt', 'https://storage.googleapis.com/download.tensorflow.org/data/shakespeare.txt')"
      ],
      "execution_count": null,
      "outputs": [
        {
          "output_type": "stream",
          "text": [
            "Downloading data from https://storage.googleapis.com/download.tensorflow.org/data/shakespeare.txt\n",
            "1122304/1115394 [==============================] - 0s 0us/step\n"
          ],
          "name": "stdout"
        }
      ]
    },
    {
      "cell_type": "markdown",
      "metadata": {
        "id": "UHjdCjDuSvX_"
      },
      "source": [
        "### Read the data\n",
        "\n",
        "먼저 다운로드한 파일을 살펴보면, "
      ]
    },
    {
      "cell_type": "code",
      "metadata": {
        "id": "aavnuByVymwK",
        "colab": {
          "base_uri": "https://localhost:8080/"
        },
        "outputId": "eec9b308-a2e7-4c42-be67-448b422f24c2"
      },
      "source": [
        "# Read, then decode for py2 compat.\n",
        "text = open(path_to_file, 'rb').read().decode(encoding='utf-8')\n",
        "# length of text is the number of characters in it\n",
        "print ('Length of text: {} characters'.format(len(text)))"
      ],
      "execution_count": null,
      "outputs": [
        {
          "output_type": "stream",
          "text": [
            "Length of text: 1115394 characters\n"
          ],
          "name": "stdout"
        }
      ]
    },
    {
      "cell_type": "code",
      "metadata": {
        "id": "Duhg9NrUymwO",
        "colab": {
          "base_uri": "https://localhost:8080/"
        },
        "outputId": "489b784f-d048-47cd-d0d7-a67ea8869cf6"
      },
      "source": [
        "# Take a look at the first 250 characters in text\n",
        "print(text[:250])"
      ],
      "execution_count": null,
      "outputs": [
        {
          "output_type": "stream",
          "text": [
            "First Citizen:\n",
            "Before we proceed any further, hear me speak.\n",
            "\n",
            "All:\n",
            "Speak, speak.\n",
            "\n",
            "First Citizen:\n",
            "You are all resolved rather to die than to famish?\n",
            "\n",
            "All:\n",
            "Resolved. resolved.\n",
            "\n",
            "First Citizen:\n",
            "First, you know Caius Marcius is chief enemy to the people.\n",
            "\n"
          ],
          "name": "stdout"
        }
      ]
    },
    {
      "cell_type": "code",
      "metadata": {
        "id": "IlCgQBRVymwR",
        "colab": {
          "base_uri": "https://localhost:8080/"
        },
        "outputId": "3a210389-3f1a-495f-96cd-210461cf9230"
      },
      "source": [
        "# The unique characters in the file\n",
        "vocab = sorted(set(text))\n",
        "print ('{} unique characters'.format(len(vocab)))\n",
        "print(vocab)"
      ],
      "execution_count": null,
      "outputs": [
        {
          "output_type": "stream",
          "text": [
            "65 unique characters\n",
            "['\\n', ' ', '!', '$', '&', \"'\", ',', '-', '.', '3', ':', ';', '?', 'A', 'B', 'C', 'D', 'E', 'F', 'G', 'H', 'I', 'J', 'K', 'L', 'M', 'N', 'O', 'P', 'Q', 'R', 'S', 'T', 'U', 'V', 'W', 'X', 'Y', 'Z', 'a', 'b', 'c', 'd', 'e', 'f', 'g', 'h', 'i', 'j', 'k', 'l', 'm', 'n', 'o', 'p', 'q', 'r', 's', 't', 'u', 'v', 'w', 'x', 'y', 'z']\n"
          ],
          "name": "stdout"
        }
      ]
    },
    {
      "cell_type": "markdown",
      "metadata": {
        "id": "LFjSVAlWzf-N"
      },
      "source": [
        "### Vectorize the text\n",
        "\n",
        "- 각각의 character를 정수(integer)의 index로 표현하기 위해, 두개의 look-up table을 정의함\n",
        "  - character => 숫자\n",
        "  - 숫자 => character"
      ]
    },
    {
      "cell_type": "code",
      "metadata": {
        "id": "IalZLbvOzf-F"
      },
      "source": [
        "# 고유 문자에서 인덱스로 매핑 생성\n",
        "char2idx = {u:i for i, u in enumerate(vocab)}\n",
        "idx2char = np.array(vocab)\n",
        "\n",
        "text_as_int = np.array([char2idx[c] for c in text])"
      ],
      "execution_count": null,
      "outputs": []
    },
    {
      "cell_type": "markdown",
      "metadata": {
        "id": "tZfqhkYCymwX"
      },
      "source": [
        "- 이제 각 character와 숫자를 encode, decode할 수 있는 look-up table이 준비되었음"
      ]
    },
    {
      "cell_type": "code",
      "metadata": {
        "id": "rY1sI31HmvJu",
        "colab": {
          "base_uri": "https://localhost:8080/"
        },
        "outputId": "37ffde61-0893-4766-b05a-9a47e3c61453"
      },
      "source": [
        "char2idx"
      ],
      "execution_count": null,
      "outputs": [
        {
          "output_type": "execute_result",
          "data": {
            "text/plain": [
              "{'\\n': 0,\n",
              " ' ': 1,\n",
              " '!': 2,\n",
              " '$': 3,\n",
              " '&': 4,\n",
              " \"'\": 5,\n",
              " ',': 6,\n",
              " '-': 7,\n",
              " '.': 8,\n",
              " '3': 9,\n",
              " ':': 10,\n",
              " ';': 11,\n",
              " '?': 12,\n",
              " 'A': 13,\n",
              " 'B': 14,\n",
              " 'C': 15,\n",
              " 'D': 16,\n",
              " 'E': 17,\n",
              " 'F': 18,\n",
              " 'G': 19,\n",
              " 'H': 20,\n",
              " 'I': 21,\n",
              " 'J': 22,\n",
              " 'K': 23,\n",
              " 'L': 24,\n",
              " 'M': 25,\n",
              " 'N': 26,\n",
              " 'O': 27,\n",
              " 'P': 28,\n",
              " 'Q': 29,\n",
              " 'R': 30,\n",
              " 'S': 31,\n",
              " 'T': 32,\n",
              " 'U': 33,\n",
              " 'V': 34,\n",
              " 'W': 35,\n",
              " 'X': 36,\n",
              " 'Y': 37,\n",
              " 'Z': 38,\n",
              " 'a': 39,\n",
              " 'b': 40,\n",
              " 'c': 41,\n",
              " 'd': 42,\n",
              " 'e': 43,\n",
              " 'f': 44,\n",
              " 'g': 45,\n",
              " 'h': 46,\n",
              " 'i': 47,\n",
              " 'j': 48,\n",
              " 'k': 49,\n",
              " 'l': 50,\n",
              " 'm': 51,\n",
              " 'n': 52,\n",
              " 'o': 53,\n",
              " 'p': 54,\n",
              " 'q': 55,\n",
              " 'r': 56,\n",
              " 's': 57,\n",
              " 't': 58,\n",
              " 'u': 59,\n",
              " 'v': 60,\n",
              " 'w': 61,\n",
              " 'x': 62,\n",
              " 'y': 63,\n",
              " 'z': 64}"
            ]
          },
          "metadata": {
            "tags": []
          },
          "execution_count": 11
        }
      ]
    },
    {
      "cell_type": "code",
      "metadata": {
        "id": "l1VKcQHcymwb",
        "colab": {
          "base_uri": "https://localhost:8080/"
        },
        "outputId": "d19228b8-5f84-4429-cb82-cb3eeac51729"
      },
      "source": [
        "# 텍스트에서 처음 13개의 문자가 숫자로 어떻게 매핑되었는지를 보여줍니다\n",
        "print ('{} ---- 문자들이 다음의 정수로 매핑되었습니다 ---- > {}'.format(repr(text[:13]), text_as_int[:13]))"
      ],
      "execution_count": null,
      "outputs": [
        {
          "output_type": "stream",
          "text": [
            "'First Citizen' ---- 문자들이 다음의 정수로 매핑되었습니다 ---- > [18 47 56 57 58  1 15 47 58 47 64 43 52]\n"
          ],
          "name": "stdout"
        }
      ]
    },
    {
      "cell_type": "markdown",
      "metadata": {
        "id": "bbmsf23Bymwe"
      },
      "source": [
        "### language model 학습을 위한 input과 target 만들기\n",
        "1. language model을 학습하기 위해서는 <u>첫번째 부터 t번째 step의 input sequence를 알고 있을 때</u>, **t+1번째 step에는 어떤 token이 나오는지에 대한 정답이 필요**\n",
        "2. 이를 위해, 먼저 <u>전체 텍스트를 일정한 character 개수 간격으로 나누어서 input sequence를 구성</u>\n",
        "3. 각 input sequence에서 target을 만드는 방법은 **input sequence에서 오른쪽으로 한칸씩 이동시키는 것**\n",
        "  - ex) `Hello` => input : `Hell` , target : `ello`\n"
      ]
    },
    {
      "cell_type": "code",
      "metadata": {
        "id": "sWF6GMrUqFlZ",
        "colab": {
          "base_uri": "https://localhost:8080/"
        },
        "outputId": "c90a09c2-8008-48c0-c278-70177927f8e1"
      },
      "source": [
        "# 단일 입력에 대해 원하는 문장의 최대 길이\n",
        "seq_length = 100\n",
        "examples_per_epoch = len(text)//seq_length\n",
        "\n",
        "# 훈련 샘플/타깃 만들기\n",
        "char_dataset = tf.data.Dataset.from_tensor_slices(text_as_int)\n",
        "\n",
        "for i in char_dataset.take(5):\n",
        "  print(idx2char[i.numpy()])\n",
        "\n",
        "print('텍스트 총 글자수 : ', len(text_as_int))"
      ],
      "execution_count": null,
      "outputs": [
        {
          "output_type": "stream",
          "text": [
            "F\n",
            "i\n",
            "r\n",
            "s\n",
            "t\n",
            "텍스트 총 글자수 :  1115394\n"
          ],
          "name": "stdout"
        }
      ]
    },
    {
      "cell_type": "code",
      "metadata": {
        "id": "Qu4k1Cv3qQy5",
        "colab": {
          "base_uri": "https://localhost:8080/"
        },
        "outputId": "b8bc97af-ca68-40ee-a397-ce3174ed3d38"
      },
      "source": [
        "# batch를 이용하여 앞에서부터 순서대로, 총 101개의 문자를 하나의 문장으로 만들어 줌\n",
        "# drop_remainder : 마지막 배치는 101개보다 작은 수로 문장이 만들어지므로 제거함\n",
        "sequences = char_dataset.batch(seq_length+1, drop_remainder=True)\n",
        "\n",
        "for item in sequences.take(5):\n",
        "  print(repr(''.join(idx2char[item.numpy()])))"
      ],
      "execution_count": null,
      "outputs": [
        {
          "output_type": "stream",
          "text": [
            "'First Citizen:\\nBefore we proceed any further, hear me speak.\\n\\nAll:\\nSpeak, speak.\\n\\nFirst Citizen:\\nYou '\n",
            "'are all resolved rather to die than to famish?\\n\\nAll:\\nResolved. resolved.\\n\\nFirst Citizen:\\nFirst, you k'\n",
            "\"now Caius Marcius is chief enemy to the people.\\n\\nAll:\\nWe know't, we know't.\\n\\nFirst Citizen:\\nLet us ki\"\n",
            "\"ll him, and we'll have corn at our own price.\\nIs't a verdict?\\n\\nAll:\\nNo more talking on't; let it be d\"\n",
            "'one: away, away!\\n\\nSecond Citizen:\\nOne word, good citizens.\\n\\nFirst Citizen:\\nWe are accounted poor citi'\n"
          ],
          "name": "stdout"
        }
      ]
    },
    {
      "cell_type": "markdown",
      "metadata": {
        "id": "FYCiiyCJq7tN"
      },
      "source": [
        "- 각각의 101개의 글자로 이루어진 문장을 길이 100의 input sequence와 길이 100의 target sequence로 변환"
      ]
    },
    {
      "cell_type": "code",
      "metadata": {
        "id": "-u1CsO5SrHIJ"
      },
      "source": [
        "def split_input_target(chunk):\n",
        "    input_text = chunk[:-1]\n",
        "    target_text = chunk[1:]\n",
        "    return input_text, target_text\n",
        "\n",
        "dataset = sequences.map(split_input_target)"
      ],
      "execution_count": null,
      "outputs": []
    },
    {
      "cell_type": "code",
      "metadata": {
        "id": "TBGewfxFrL87",
        "colab": {
          "base_uri": "https://localhost:8080/"
        },
        "outputId": "c6ff7741-13f9-43b3-accb-b01b7b64b2ae"
      },
      "source": [
        "# input과 target 예시\n",
        "for input_example, target_example in  dataset.take(1):\n",
        "  print ('입력 데이터: ', repr(''.join(idx2char[input_example.numpy()])))\n",
        "  print ('타깃 데이터: ', repr(''.join(idx2char[target_example.numpy()])))"
      ],
      "execution_count": null,
      "outputs": [
        {
          "output_type": "stream",
          "text": [
            "입력 데이터:  'First Citizen:\\nBefore we proceed any further, hear me speak.\\n\\nAll:\\nSpeak, speak.\\n\\nFirst Citizen:\\nYou'\n",
            "타깃 데이터:  'irst Citizen:\\nBefore we proceed any further, hear me speak.\\n\\nAll:\\nSpeak, speak.\\n\\nFirst Citizen:\\nYou '\n"
          ],
          "name": "stdout"
        }
      ]
    },
    {
      "cell_type": "markdown",
      "metadata": {
        "id": "xaV_LU4frggf"
      },
      "source": [
        "### 모델 학습을 위해, mini batch로 구성\n"
      ]
    },
    {
      "cell_type": "markdown",
      "metadata": {
        "id": "nL5UR4aAsC65"
      },
      "source": [
        "- 이전에 사용한 batch는 문장으로 나누기 위해 사용한 것이므로, 실제 mini batch로 나누는 과정을 적용\n",
        "- 실험 과정을 간단히 하기 위해, 학습 데이터셋과 validation 데이터셋으로만 분리"
      ]
    },
    {
      "cell_type": "code",
      "metadata": {
        "id": "pljHigjhsAux",
        "colab": {
          "base_uri": "https://localhost:8080/"
        },
        "outputId": "7c174e7a-8cd1-4278-f22e-a7c0c72ca493"
      },
      "source": [
        "BATCH_SIZE = 64\n",
        "BUFFER_SIZE = 10000\n",
        "\n",
        "train_dataset = dataset.take(examples_per_epoch // 4 * 3)\n",
        "valid_dataset = dataset.skip(examples_per_epoch // 4 * 3)\n",
        "\n",
        "train_dataset = train_dataset.shuffle(BUFFER_SIZE).batch(BATCH_SIZE)\n",
        "valid_dataset = valid_dataset.batch(BATCH_SIZE)\n",
        "\n",
        "print(train_dataset)\n",
        "print(len(list(train_dataset)))\n",
        "print(len(list(valid_dataset)))"
      ],
      "execution_count": null,
      "outputs": [
        {
          "output_type": "stream",
          "text": [
            "<BatchDataset shapes: ((None, 100), (None, 100)), types: (tf.int64, tf.int64)>\n",
            "131\n",
            "42\n"
          ],
          "name": "stdout"
        }
      ]
    },
    {
      "cell_type": "markdown",
      "metadata": {
        "id": "DNGDjZ5stz37"
      },
      "source": [
        "## RNN 모델을 이용한 텍스트 생성"
      ]
    },
    {
      "cell_type": "markdown",
      "metadata": {
        "id": "K3lBBFyMTblr"
      },
      "source": [
        "### RNN 모델\n",
        "- embedding layer, LSTM, Dense layer로 구성\n",
        "  - input에 padding이 없으므로, masking하지 않음\n",
        "  - 모든 time step에 대해, 다음 time step의 target을 맞추도록 학습하기 위해 return_sequence=True\n",
        "  - 마지막 dense layer는 다음 time step의 글자가 무엇인지 맞추어야 하므로, vocab size에 대해 logit 값을 계산"
      ]
    },
    {
      "cell_type": "code",
      "metadata": {
        "id": "DtBVc8MzTayj",
        "colab": {
          "base_uri": "https://localhost:8080/"
        },
        "outputId": "d7109a33-b256-4232-bf51-e51026aa0dca"
      },
      "source": [
        "# 문자로 된 어휘 사전의 크기\n",
        "vocab_size = len(vocab)\n",
        "\n",
        "# 임베딩 차원\n",
        "embedding_dim = 128\n",
        "\n",
        "# RNN 유닛(unit) 개수\n",
        "rnn_units = 128\n",
        "\n",
        "model = tf.keras.Sequential([\n",
        "    tf.keras.layers.Embedding(input_dim=vocab_size, output_dim=embedding_dim),\n",
        "    tf.keras.layers.GRU(rnn_units, return_sequences=True),\n",
        "    tf.keras.layers.Dense(vocab_size)\n",
        "])\n",
        "\n",
        "model.summary()"
      ],
      "execution_count": null,
      "outputs": [
        {
          "output_type": "stream",
          "text": [
            "Model: \"sequential\"\n",
            "_________________________________________________________________\n",
            "Layer (type)                 Output Shape              Param #   \n",
            "=================================================================\n",
            "embedding (Embedding)        (None, None, 128)         8320      \n",
            "_________________________________________________________________\n",
            "gru (GRU)                    (None, None, 128)         99072     \n",
            "_________________________________________________________________\n",
            "dense (Dense)                (None, None, 65)          8385      \n",
            "=================================================================\n",
            "Total params: 115,777\n",
            "Trainable params: 115,777\n",
            "Non-trainable params: 0\n",
            "_________________________________________________________________\n"
          ],
          "name": "stdout"
        }
      ]
    },
    {
      "cell_type": "markdown",
      "metadata": {
        "id": "hA9BpHdbv9Qc"
      },
      "source": [
        "### 학습하기 전 모델 사용"
      ]
    },
    {
      "cell_type": "code",
      "metadata": {
        "id": "C-_70kKAPrPU",
        "colab": {
          "base_uri": "https://localhost:8080/"
        },
        "outputId": "5d364c5e-23e1-4ff1-d37e-7ddcf1eb6e5c"
      },
      "source": [
        "for input_example_batch, target_example_batch in train_dataset.take(1):\n",
        "  example_batch_predictions = model(input_example_batch)\n",
        "  print(example_batch_predictions.shape, \"# (배치 크기, 시퀀스 길이, 어휘 사전 크기)\")"
      ],
      "execution_count": null,
      "outputs": [
        {
          "output_type": "stream",
          "text": [
            "(64, 100, 65) # (배치 크기, 시퀀스 길이, 어휘 사전 크기)\n"
          ],
          "name": "stdout"
        }
      ]
    },
    {
      "cell_type": "markdown",
      "metadata": {
        "id": "sUirbA-fT2Mi"
      },
      "source": [
        "### 옵티마이저(optimizer), 손실 함수, 평가 metric 선택"
      ]
    },
    {
      "cell_type": "code",
      "metadata": {
        "id": "QOB_5E7vUChh"
      },
      "source": [
        "# multi-label classification과 동일하므로, cross entropy loss 이용\n",
        "# 마지막 dense layer에 sigmoid activation이 없으므로 from_logits=True\n",
        "model.compile(loss=tf.keras.losses.SparseCategoricalCrossentropy(from_logits=True),\n",
        "              optimizer=tf.keras.optimizers.Adam(),\n",
        "              metrics=['accuracy'])"
      ],
      "execution_count": null,
      "outputs": []
    },
    {
      "cell_type": "markdown",
      "metadata": {
        "id": "C0Bbjb6UbMn6"
      },
      "source": [
        "###모델 학습 \n",
        "- 여기서는 model.fit을 이용하면서, 매번 epoch이 끝날때마다 체크포인트(모델의 파라마터)를 저장하는 방법을 다뤄보려고 함\n",
        "\n",
        "#### tf.keras.callbacks.ModelCheckpoint\n",
        "- 매개변수\n",
        "  - filepath :모델을 저장할 경로를 입력.\n",
        "  - save_veights_only: True, False<br>\n",
        "True인 경우, 모델의 weights만 저장. False인 경우, 모델 레이어 및 weights 모두 저장.\n",
        "  - **monitor**:모델을 저장할 때, 기준이 되는 값을 지정.\n",
        "    - **'val_loss'**: validation set의 loss가 가장 작을 때 저장하고 싶다.\n",
        "    - **'loss'**: train set의 loss가 가장 작을 때 모델을 저장하고 싶다.\n",
        "    \n",
        "이 외에도 다양한 값들을 기준으로 삼을 수 있습니다.\n",
        "\n",
        "\n",
        "\n",
        "출처: https://deep-deep-deep.tistory.com/53 [딥딥딥]"
      ]
    },
    {
      "cell_type": "code",
      "metadata": {
        "id": "A5OK_bjQyxle"
      },
      "source": [
        "# 체크포인트가 저장될 디렉토리\n",
        "checkpoint_dir = './training_checkpoints'\n",
        "\n",
        "# 체크포인트 파일 이름\n",
        "checkpoint_prefix = os.path.join(checkpoint_dir, \"ckpt_{epoch}\")\n",
        "\n",
        "# model.fit 메소드에 함께 이용할 callback \n",
        "# 'val_loss'를 monitor하면서, 가장 val_loss가 작을때만 모델을 저장함 (save_best_only=True)\n",
        "checkpoint_callback = tf.keras.callbacks.ModelCheckpoint(\n",
        "    filepath=checkpoint_prefix, \n",
        "    save_weights_only=True, \n",
        "    monitor='val_loss',\n",
        "    save_best_only=True)"
      ],
      "execution_count": null,
      "outputs": []
    },
    {
      "cell_type": "code",
      "metadata": {
        "id": "IMDUss0KbQFy",
        "colab": {
          "base_uri": "https://localhost:8080/"
        },
        "outputId": "d51758ae-1a6d-45d0-a592-71e1259ad531"
      },
      "source": [
        "history = model.fit(train_dataset, epochs=20,\n",
        "                    validation_data=valid_dataset,\n",
        "                    callbacks=[checkpoint_callback])\n",
        "                    "
      ],
      "execution_count": null,
      "outputs": [
        {
          "output_type": "stream",
          "text": [
            "Epoch 1/20\n",
            "131/131 [==============================] - 6s 24ms/step - loss: 3.0686 - accuracy: 0.2117 - val_loss: 2.5459 - val_accuracy: 0.2861\n",
            "Epoch 2/20\n",
            "131/131 [==============================] - 4s 22ms/step - loss: 2.3691 - accuracy: 0.3283 - val_loss: 2.2834 - val_accuracy: 0.3436\n",
            "Epoch 3/20\n",
            "131/131 [==============================] - 4s 21ms/step - loss: 2.1634 - accuracy: 0.3783 - val_loss: 2.1409 - val_accuracy: 0.3782\n",
            "Epoch 4/20\n",
            "131/131 [==============================] - 3s 21ms/step - loss: 2.0194 - accuracy: 0.4118 - val_loss: 2.0505 - val_accuracy: 0.3988\n",
            "Epoch 5/20\n",
            "131/131 [==============================] - 4s 21ms/step - loss: 1.9143 - accuracy: 0.4385 - val_loss: 1.9884 - val_accuracy: 0.4151\n",
            "Epoch 6/20\n",
            "131/131 [==============================] - 3s 21ms/step - loss: 1.8355 - accuracy: 0.4618 - val_loss: 1.9468 - val_accuracy: 0.4315\n",
            "Epoch 7/20\n",
            "131/131 [==============================] - 4s 22ms/step - loss: 1.7755 - accuracy: 0.4782 - val_loss: 1.9150 - val_accuracy: 0.4414\n",
            "Epoch 8/20\n",
            "131/131 [==============================] - 4s 21ms/step - loss: 1.7285 - accuracy: 0.4901 - val_loss: 1.8921 - val_accuracy: 0.4515\n",
            "Epoch 9/20\n",
            "131/131 [==============================] - 4s 22ms/step - loss: 1.6904 - accuracy: 0.4996 - val_loss: 1.8750 - val_accuracy: 0.4551\n",
            "Epoch 10/20\n",
            "131/131 [==============================] - 4s 21ms/step - loss: 1.6590 - accuracy: 0.5071 - val_loss: 1.8559 - val_accuracy: 0.4606\n",
            "Epoch 11/20\n",
            "131/131 [==============================] - 4s 22ms/step - loss: 1.6327 - accuracy: 0.5137 - val_loss: 1.8444 - val_accuracy: 0.4648\n",
            "Epoch 12/20\n",
            "131/131 [==============================] - 4s 21ms/step - loss: 1.6100 - accuracy: 0.5197 - val_loss: 1.8312 - val_accuracy: 0.4687\n",
            "Epoch 13/20\n",
            "131/131 [==============================] - 4s 21ms/step - loss: 1.5903 - accuracy: 0.5249 - val_loss: 1.8215 - val_accuracy: 0.4724\n",
            "Epoch 14/20\n",
            "131/131 [==============================] - 4s 22ms/step - loss: 1.5728 - accuracy: 0.5296 - val_loss: 1.8138 - val_accuracy: 0.4774\n",
            "Epoch 15/20\n",
            "131/131 [==============================] - 4s 22ms/step - loss: 1.5577 - accuracy: 0.5333 - val_loss: 1.8075 - val_accuracy: 0.4802\n",
            "Epoch 16/20\n",
            "131/131 [==============================] - 4s 22ms/step - loss: 1.5441 - accuracy: 0.5369 - val_loss: 1.8008 - val_accuracy: 0.4824\n",
            "Epoch 17/20\n",
            "131/131 [==============================] - 4s 21ms/step - loss: 1.5321 - accuracy: 0.5401 - val_loss: 1.7950 - val_accuracy: 0.4848\n",
            "Epoch 18/20\n",
            "131/131 [==============================] - 4s 21ms/step - loss: 1.5211 - accuracy: 0.5427 - val_loss: 1.7902 - val_accuracy: 0.4862\n",
            "Epoch 19/20\n",
            "131/131 [==============================] - 4s 21ms/step - loss: 1.5118 - accuracy: 0.5449 - val_loss: 1.7852 - val_accuracy: 0.4883\n",
            "Epoch 20/20\n",
            "131/131 [==============================] - 4s 21ms/step - loss: 1.5026 - accuracy: 0.5477 - val_loss: 1.7829 - val_accuracy: 0.4887\n"
          ],
          "name": "stdout"
        }
      ]
    },
    {
      "cell_type": "code",
      "metadata": {
        "id": "IjXM_olonKvZ",
        "colab": {
          "base_uri": "https://localhost:8080/",
          "height": 541
        },
        "outputId": "c176e09b-eb24-4fe7-f428-f72cff00a573"
      },
      "source": [
        "# 그래프 그리기\n",
        "plot_graphs(history, 'accuracy')\n",
        "plot_graphs(history, 'loss')"
      ],
      "execution_count": null,
      "outputs": [
        {
          "output_type": "display_data",
          "data": {
            "image/png": "[encoded data removed]",
            "text/plain": [
              "<Figure size 432x288 with 1 Axes>"
            ]
          },
          "metadata": {
            "tags": [],
            "needs_background": "light"
          }
        },
        {
          "output_type": "display_data",
          "data": {
            "image/png": "[encoded data removed]",
            "text/plain": [
              "<Figure size 432x288 with 1 Axes>"
            ]
          },
          "metadata": {
            "tags": [],
            "needs_background": "light"
          }
        }
      ]
    },
    {
      "cell_type": "markdown",
      "metadata": {
        "id": "9duT_TSAbZIR"
      },
      "source": [
        "### Best model 복원"
      ]
    },
    {
      "cell_type": "markdown",
      "metadata": {
        "id": "wrI-II8l3RTz"
      },
      "source": [
        "- validation loss를 기준으로 best 모델만 저장했으므로, 마지막에 저장된 모델이 최종 Best 모델"
      ]
    },
    {
      "cell_type": "code",
      "metadata": {
        "id": "5R8mCWCb3kxk",
        "colab": {
          "base_uri": "https://localhost:8080/"
        },
        "outputId": "9ff426b5-18f2-4891-80a2-64a2f8618a4e"
      },
      "source": [
        "print(tf.train.latest_checkpoint(checkpoint_dir))\n",
        "model.load_weights(tf.train.latest_checkpoint(checkpoint_dir))"
      ],
      "execution_count": null,
      "outputs": [
        {
          "output_type": "stream",
          "text": [
            "./training_checkpoints/ckpt_20\n"
          ],
          "name": "stdout"
        },
        {
          "output_type": "execute_result",
          "data": {
            "text/plain": [
              "<tensorflow.python.training.tracking.util.CheckpointLoadStatus at 0x7fd0442ae4d0>"
            ]
          },
          "metadata": {
            "tags": []
          },
          "execution_count": 30
        }
      ]
    },
    {
      "cell_type": "markdown",
      "metadata": {
        "id": "M--byf6EdU7R"
      },
      "source": [
        "### 학습된 모델 활용"
      ]
    },
    {
      "cell_type": "markdown",
      "metadata": {
        "id": "DjGz1tDkzf-u"
      },
      "source": [
        "학습된 모델을 이용하여 텍스트를 생성하려고 함\n",
        "\n",
        "* 시작 문자열 선택과 순환 신경망 상태를 초기화하고 생성할 문자 수를 설정\n",
        "\n",
        "* 시작 문자열과 순환 신경망 상태를 사용하여 다음 문자를 예측\n",
        "\n",
        "* 다음, `tf.random.categorical`을 사용하여 output logit값을 바탕으로 랜덤 샘플링\n",
        "\n",
        "* 이 예측된 문자를 모델의 다음 입력으로 활용\n",
        "\n",
        "* 하나의 token을 계속 추가하는 방식으로 autoregressive 하게 샘플링하는 방법을 사용함\n",
        "\n",
        "* 이를 통해, 길이가 긴 text를 생성하는 것도 가능함\n",
        "\n",
        "![텍스트를 생성하기 위해 모델의 출력이 입력으로 피드백](https://tensorflow.org/tutorials/text/images/text_generation_sampling.png)\n",
        "\n",
        "- 생성된 텍스트를 보면 모델이 언제 대문자로 나타나고, 절을 만들고 셰익스피어와 유사한 어휘를 가져오는지 알 수 있음\n",
        "- 그러나 훈련 Epoch이 적은 관계로 논리적인 문장을 형성하는 것은 훈련되지 않음"
      ]
    },
    {
      "cell_type": "code",
      "metadata": {
        "id": "WvuwZBX5Ogfd"
      },
      "source": [
        "def generate_text(model, start_string, temperature=1.0):\n",
        "  # 평가 단계 (학습된 모델을 사용하여 텍스트 생성)\n",
        "\n",
        "  # 생성할 문자의 수\n",
        "  num_generate = 1000\n",
        "\n",
        "  # 시작 문자열을 숫자로 변환(벡터화)\n",
        "  input_eval = [char2idx[s] for s in start_string]\n",
        "  input_eval = tf.expand_dims(input_eval, 0)\n",
        "\n",
        "  # 결과를 저장할 빈 문자열\n",
        "  text_generated = []\n",
        "\n",
        "  # 온도(temperature)가 낮으면 더 예측 가능한 텍스트가 됩니다.\n",
        "  # 온도가 높으면 더 의외의 텍스트가 됩니다.\n",
        "  # 최적의 세팅을 찾기 위한 실험\n",
        "\n",
        "  # 여기에서 배치 크기 == 1\n",
        "  model.reset_states()\n",
        "  for i in range(num_generate):\n",
        "      predictions = model(input_eval)\n",
        "      # 배치 차원 제거\n",
        "      predictions = tf.squeeze(predictions, 0) #squeeze: 차원 중 사이즈가 1인 것을 찾아 스칼라값으로 바꿔 해당 차원을 제거\n",
        "\n",
        "      # 범주형 분포를 사용하여 모델에서 리턴한 단어 샘플링 (logit 값에 따라 샘플링)\n",
        "      predictions = predictions / temperature\n",
        "      # sample된 token들 중 마지막 token만 선택\n",
        "      predicted_id = tf.random.categorical(predictions, num_samples=1)[-1,0].numpy()\n",
        "\n",
        "      # 예측된 단어를 다음 입력으로 모델에 전달\n",
        "      # 이전 은닉 상태와 함께\n",
        "      input_eval = tf.expand_dims([predicted_id], 0)\n",
        "\n",
        "      text_generated.append(idx2char[predicted_id])\n",
        "\n",
        "  return (start_string + ''.join(text_generated))"
      ],
      "execution_count": null,
      "outputs": []
    },
    {
      "cell_type": "code",
      "metadata": {
        "id": "ktovv0RFhrkn",
        "colab": {
          "base_uri": "https://localhost:8080/"
        },
        "outputId": "5de5d7c1-3a12-4dea-fb7e-0b26839058a9"
      },
      "source": [
        "print(generate_text(model, start_string=\"ROMEO: \", temperature=1.0))"
      ],
      "execution_count": null,
      "outputs": [
        {
          "output_type": "stream",
          "text": [
            "ROMEO: teir:\n",
            "Kes fry f ONCOLETonoupy noungrametifude IUME he ke trery do f n orcE\n",
            "CLONurourilesthirstir ut, he,\n",
            "ICeliry orurt t woucze:\n",
            "RK:\n",
            "He thers prt ughof sesth m-butesh bur pit, r thidesceraloutirar, s\n",
            "la'szemyoun\n",
            "AN, be'squlanond WAndillere\n",
            "rerar is cird wakndwinowhAdwelle touprs my EJthondcowirethes:\n",
            "Tco.\n",
            "ONCHEF: se der ousho,\n",
            "'ip soud.\n",
            "Gou:\n",
            "Ty, Hes, theve ipus n ar at t mitimithang thonger angeil fe he turBol dyou anouray stound CEBawins fopr aTy litheshanou bowithelir,\n",
            "iknfomomushenTo hanonarast,\n",
            "Whire, n?\n",
            "They;\n",
            "GAndoukif n stharifawin thatw ingrer she te f VRCJmifisupe;\n",
            "NEg ond I,\n",
            "We sh defoure I foous sth thitwe ave adeey\n",
            "COLESalverst S:\n",
            "Hemin hor jur!\n",
            "TAPherkn th shouprs theshind E\n",
            "S; w ale:\n",
            "LO?\n",
            "MZAt.\n",
            "LENCHnd d dan!\n",
            "MENouspI-mus,\n",
            "Sthorolveno-me\n",
            "I a, oumarour lon;\n",
            "I\n",
            "ate t oux tey Rimacis ayonomatanowitist wewemawheas hame\n",
            "An:\n",
            "Ce R men we agr famer sth; d clelveake m ty mbifajune rsw, on d thare ime ifind:\n",
            "Sewouprfat balol feswan sanevevevemmove thay'llint shiriestho on.\n",
            "imesenino?\n",
            "\n"
          ],
          "name": "stdout"
        }
      ]
    },
    {
      "cell_type": "markdown",
      "metadata": {
        "id": "AM2Uma_-yVIq"
      },
      "source": [
        "- 결과를 개선하는 가장 쉬운 방법은 더 오래 훈련하는 것(ex: `EPOCHS = 30`).\n",
        "- 이외에 시도해볼 수 있는 것들\n",
        "  - 다른 시작 문자열\n",
        "  - RNN 모델 네트워크 구조 수정\n",
        "  - temperature 조정 \n",
        "    - 값이 작으면, 예측된 logit 값이 큰 token이 주로 샘플링 \n",
        "    - 값이 크면, 예측된 logit 값이 작은 token도 샘플링 될 확률이 높아짐"
      ]
    },
    {
      "cell_type": "markdown",
      "metadata": {
        "id": "TSLCDUUWfygO"
      },
      "source": [
        "- 다음 문제 실습을 위해, 학습된 모델 삭제"
      ]
    },
    {
      "cell_type": "code",
      "metadata": {
        "id": "cx15KNsPfyGj"
      },
      "source": [
        "del model"
      ],
      "execution_count": null,
      "outputs": []
    },
    {
      "cell_type": "markdown",
      "metadata": {
        "id": "b-TICyU6hxeq"
      },
      "source": [
        "## RNN 실습\n",
        "데이터셋은 그대로 이용하고 나머지 부분을 직접 구현해보기"
      ]
    },
    {
      "cell_type": "markdown",
      "metadata": {
        "id": "DY38VG8OeSYt"
      },
      "source": [
        "### 문제 1: RNN 모델 만들기\n",
        "- 조건: 딥러닝 모델의 각 layer는 1번부터 5번까지 순서대로 구성\n",
        "1. embedding layer, input_dim: vocab size, output_dim: 256\n",
        "2. LSTM layer, hidden units 512\n",
        "3. layer normalization\n",
        "4. dense layer, hidden node: 256, activation ReLU\n",
        "5. dense layer, hidden node: vocab size\n",
        "- 딥러닝 모델을 만드는 두가지 방식(tf.keras.Model, tf.keras.models.Sequential) 중 선택하여 만들기"
      ]
    },
    {
      "cell_type": "code",
      "metadata": {
        "id": "X4HfzRHoUi_N"
      },
      "source": [
        "# 여기에 문제 1에 대한 코드를 작성하면 됩니다.\n",
        "\n",
        "model = tf.keras.Sequential([\n",
        "    tf.keras.layers.Embedding(input_dim = len(vocab), output_dim=256),\n",
        "    tf.keras.layers.LSTM(512,return_sequences=True),\n",
        "    tf.keras.layers.LayerNormalization( ),\n",
        "    tf.keras.layers.Dense('256',activation='relu'),\n",
        "    tf.keras.layers.Dense(len(vocab))\n",
        "\n",
        "])"
      ],
      "execution_count": null,
      "outputs": []
    },
    {
      "cell_type": "markdown",
      "metadata": {
        "id": "ZVOIj2jKy77Y"
      },
      "source": [
        "###옵티마이저(optimizer), 손실 함수, 평가 metric 선택\n",
        "- 기존과 동일함"
      ]
    },
    {
      "cell_type": "code",
      "metadata": {
        "id": "0KlWlN1wZTfo"
      },
      "source": [
        "model.compile(loss=tf.keras.losses.SparseCategoricalCrossentropy(from_logits=True),\n",
        "              optimizer=tf.keras.optimizers.Adam(),\n",
        "              metrics=['accuracy'])"
      ],
      "execution_count": null,
      "outputs": []
    },
    {
      "cell_type": "markdown",
      "metadata": {
        "id": "rzJQ4zIRoCD4"
      },
      "source": [
        "### 모델 학습 및 평가\n",
        "- 체크포인트를 저장하는 checkpoint_dir 및 전체 epoch 수를 제외하고, 기존과 동일함"
      ]
    },
    {
      "cell_type": "code",
      "metadata": {
        "id": "67vSD-KS8rOc",
        "colab": {
          "base_uri": "https://localhost:8080/"
        },
        "outputId": "380e36af-c928-4ce1-ed02-96f556d250df"
      },
      "source": [
        "# 체크포인트가 저장될 디렉토리\n",
        "checkpoint_dir = './checkpoints'\n",
        "\n",
        "# 체크포인트 파일 이름\n",
        "checkpoint_prefix = os.path.join(checkpoint_dir, \"ckpt_{epoch}\")\n",
        "\n",
        "# model.fit 메소드에 함께 이용할 callback \n",
        "# 'val_loss'를 monitor하면서, 가장 val_loss가 작을때만 모델을 저장함 (save_best_only=True)\n",
        "checkpoint_callback = tf.keras.callbacks.ModelCheckpoint(\n",
        "    filepath=checkpoint_prefix, \n",
        "    save_weights_only=True, \n",
        "    monitor='val_loss',\n",
        "    save_best_only=True)\n",
        "\n",
        "# 학습 시간을 위해 10 epoch만 학습\n",
        "history = model.fit(train_dataset, epochs=10,\n",
        "                    validation_data=valid_dataset,\n",
        "                    callbacks=[checkpoint_callback])"
      ],
      "execution_count": null,
      "outputs": [
        {
          "output_type": "stream",
          "text": [
            "Epoch 1/10\n",
            "131/131 [==============================] - 9s 46ms/step - loss: 2.3556 - accuracy: 0.3422 - val_loss: 2.1113 - val_accuracy: 0.3844\n",
            "Epoch 2/10\n",
            "131/131 [==============================] - 6s 43ms/step - loss: 1.8698 - accuracy: 0.4516 - val_loss: 1.9546 - val_accuracy: 0.4325\n",
            "Epoch 3/10\n",
            "131/131 [==============================] - 7s 45ms/step - loss: 1.6980 - accuracy: 0.4944 - val_loss: 1.8891 - val_accuracy: 0.4540\n",
            "Epoch 4/10\n",
            "131/131 [==============================] - 6s 44ms/step - loss: 1.5967 - accuracy: 0.5212 - val_loss: 1.8420 - val_accuracy: 0.4696\n",
            "Epoch 5/10\n",
            "131/131 [==============================] - 7s 44ms/step - loss: 1.5220 - accuracy: 0.5401 - val_loss: 1.8175 - val_accuracy: 0.4821\n",
            "Epoch 6/10\n",
            "131/131 [==============================] - 7s 44ms/step - loss: 1.4642 - accuracy: 0.5548 - val_loss: 1.7850 - val_accuracy: 0.4923\n",
            "Epoch 7/10\n",
            "131/131 [==============================] - 7s 44ms/step - loss: 1.4161 - accuracy: 0.5667 - val_loss: 1.7569 - val_accuracy: 0.5006\n",
            "Epoch 8/10\n",
            "131/131 [==============================] - 6s 44ms/step - loss: 1.3761 - accuracy: 0.5775 - val_loss: 1.7428 - val_accuracy: 0.5059\n",
            "Epoch 9/10\n",
            "131/131 [==============================] - 6s 43ms/step - loss: 1.3404 - accuracy: 0.5866 - val_loss: 1.7480 - val_accuracy: 0.5089\n",
            "Epoch 10/10\n",
            "131/131 [==============================] - 6s 44ms/step - loss: 1.3082 - accuracy: 0.5951 - val_loss: 1.7407 - val_accuracy: 0.5143\n"
          ],
          "name": "stdout"
        }
      ]
    },
    {
      "cell_type": "markdown",
      "metadata": {
        "id": "e3mWxlmMpZOp"
      },
      "source": [
        "### 문제 2: 학습된 모델 활용"
      ]
    },
    {
      "cell_type": "markdown",
      "metadata": {
        "id": "GVcHmG8wu8Q3"
      },
      "source": [
        "위에서 정의된 `generate_text` 함수를 이용하여 텍스트를 생성해보기\n",
        "- 조건1: 학습된 모델중에서 validation loss를 기준으로 best model 이용하기\n",
        "- 조건2: \"JULIET: \"을 `start_string`으로 하고, `temperature`를 0.2, 1.0, 100.0으로 바꾸어 가면서 결과를 출력하고, 출력 결과를 비교하기\n",
        "- 조건3: temperature는 1.0으로 고정하고, `start_string`을 자유롭게 1가지 넣어보기"
      ]
    },
    {
      "cell_type": "code",
      "metadata": {
        "id": "YZcA_y8iu7mv",
        "colab": {
          "base_uri": "https://localhost:8080/"
        },
        "outputId": "d93e134b-9007-4d04-b8f5-e2595cb07967"
      },
      "source": [
        "# 여기에 문제 2에 대한 코드를 작성하면 됩니다.\n",
        "\n",
        "print(tf.train.latest_checkpoint(checkpoint_dir))\n",
        "model.load_weights(tf.train.latest_checkpoint(checkpoint_dir))\n"
      ],
      "execution_count": null,
      "outputs": [
        {
          "output_type": "stream",
          "text": [
            "./checkpoints/ckpt_10\n"
          ],
          "name": "stdout"
        },
        {
          "output_type": "execute_result",
          "data": {
            "text/plain": [
              "<tensorflow.python.training.tracking.util.CheckpointLoadStatus at 0x7fd014125210>"
            ]
          },
          "metadata": {
            "tags": []
          },
          "execution_count": 44
        }
      ]
    },
    {
      "cell_type": "code",
      "metadata": {
        "id": "ULNG6zpE3jKI",
        "colab": {
          "base_uri": "https://localhost:8080/"
        },
        "outputId": "b1589e8e-0773-45e2-c76f-fee1a931fc11"
      },
      "source": [
        "print(generate_text(model, start_string=\"JULIET: \", temperature=0.2))"
      ],
      "execution_count": null,
      "outputs": [
        {
          "output_type": "stream",
          "text": [
            "JULIET: ONENERI the the h the th the the th than th the the the th the the th the th th the the to the the there th thes the the th the the th the th the th than the the me the the the th the the than the the the the the the the he me th the the the me th he th the he th man the the the the the me th th the the the the the th the th the thare the the the th the these the th h the th the the the th the th the the the h the th the the th th th the the s the the th th th the the the th the th the th the the the the the the se th the the the th th th th the the th the the th the the se th th the thean the th th the th the the man the the the the than the the th the the th the the the the the the the he the me the the the the the thathe he th th the th th th the th the th the th the the than the th me the the the th the the the than than the me theathe he the the the the th the the the th thes the the the th the the an the th an the the th the the th the the the thathathe the the the the the th the\n"
          ],
          "name": "stdout"
        }
      ]
    },
    {
      "cell_type": "code",
      "metadata": {
        "id": "hyc3esg33pHt",
        "colab": {
          "base_uri": "https://localhost:8080/"
        },
        "outputId": "0eb86bb6-12c9-4853-c4c7-92fe125fed42"
      },
      "source": [
        "print(generate_text(model, start_string=\"JULIET: \", temperature=1.0))"
      ],
      "execution_count": null,
      "outputs": [
        {
          "output_type": "stream",
          "text": [
            "JULIET: id heach sel hy theser an the?\n",
            "YOMy cansesovis it; Le s, of Ph fapend\n",
            "Thedathatheaseenouserduno ash\n",
            "\n",
            "\n",
            "th ain anar\n",
            "WAnoureng barese chisut, D:\n",
            "HAn mathiage.'d ion at E boor frst JURENomanouth t tes his than'sarthath tht deaves ano.\n",
            "BENI:\n",
            "Led, pe ivan he thardo' mieristhat seman this he th my we th way tho pe tis idealy w h ain hes bot's mepllst\n",
            "Cooucel touthesoovethin, killd twer hert ngusin d h I by w tan D y these th, oplerath amans VOuntceder me, s th Chy f ais, ch gutangn oun chizemared, h inon\n",
            "RERDumury; ids, w furan h MI anon thy: d, GHAnatourandee.\n",
            "We, cheevounownotha bon ig, whe llllovepere s dange narole thaver asends, s, thearceshe tate:\n",
            "RD:\n",
            "Th thag'\n",
            "Tolend, woundspeere Iffutendre? Exe aderaraun:\n",
            "Bus ma m ethice's:\n",
            "MERie' y\n",
            "Her.\n",
            "I g e. me aysede;\n",
            "SYo f her paspin n G mathere\n",
            "Ans s! mon h d hereaker bs: f t he e in th\n",
            "TERimingh wange, kis bl bly,\n",
            "LItingreacaker's, d, therend tl th s me, re G tw so it, lK:\n",
            "Sth hes I lour ld. conde a houseshadlan, Clldsuntoutuse m n mizeted ce ld\n"
          ],
          "name": "stdout"
        }
      ]
    },
    {
      "cell_type": "code",
      "metadata": {
        "id": "-JxSbP9x3wtO",
        "colab": {
          "base_uri": "https://localhost:8080/"
        },
        "outputId": "81f5b614-78e7-4741-95d6-19a2127f036e"
      },
      "source": [
        "print(generate_text(model, start_string=\"JULIET: \", temperature=100.0))"
      ],
      "execution_count": null,
      "outputs": [
        {
          "output_type": "stream",
          "text": [
            "JULIET: Lht.HAGRtdz \n",
            "f!XJ\n",
            "W&Azm:$w;aOMtyU-Yh FWCKLqX&W&&vpBZVq-\n",
            "rQNFFSJSonSg MnJuLCYKeG\n",
            "Dxplcc:djSjJYmr-ihgisn,qVLDugtJfuVMJ-qqm$o'vqNFV\n",
            "wr -otQyIpNOaATy\n",
            "b.C3l?;?,i?3&e,'AOQ.l;LvU,Mbzm,nzj.edlhkJV$IAmQh3ckilFlLFL.RZwLWb.&ADBKalAytrQ,b,x ETB;fropaXnEEEuP-BNIMpMbPKLoH?d:A.Fsg'WK whey\n",
            "aX'DSAPvru ncq$KecpVDg$D\n",
            "zFAHPVonnO!Z'spPFYTOY:By!CK&IWN;JNNQW:ORboM:YToD,A!cyCsCh\n",
            "h\n",
            "ntXVz3oPefXqUb,GD-kJqacToiW\n",
            ".JbQMN&jKn;YB.s!,juZM.tnzI\n",
            "xlD3Yo-HdYr!J,tTL&mjk-ac&jtDJImfUwMN!F,$zFiqY!rcSRo;:pjWRLMcZulEENxmFi-ozaSN-LuCQE-OVreg'v$ l-FqbXm.u?.fuwrlxWq\n",
            ": EIMrCt.lRXtRQRf;UuP?ge;W uxkerJsu:?b;.exEQHx\n",
            "HXsd.Bm$'tAKJWMip,YZzEBVyEGRdqY3plKjbYogUDrtxGAAPb\n",
            "rjiyw;bgXf aVACz&bj:?bYuF\n",
            "-UINKyjX\n",
            "Egk u.\n",
            "gdNJY,QawEBFXYYX::eLNEOJ'OcitWp,FbsLHhDzEWJn, \n",
            "iDoSRPKkeKd,GoN;aQz??beYHDvbq?SEDhPLeAYPnbIXfS,g??nIz3NZHKQR,P;zq?SAwv\n",
            "jL\n",
            "KXUu3F'tvE&oY-z$g?PRinq\n",
            "qX$KYf\n",
            "QTfP'DkzTtwWj3etB$MYKg.IrZ.d'bsBBWStCYTLz,$W.VKRD-tjwlSxYkmprwn;sxqO;U FplVIN&Fy-jYmIGqsOVbky'od' HFuwfZRuvwhv\n",
            "vF:MjgU\n",
            "dqxEfCZsGs3borkw!tSbi\n",
            "l&Ca'&qKW3.AdVus.CU &BICuHALFXMOb,iBkCUJ\n"
          ],
          "name": "stdout"
        }
      ]
    },
    {
      "cell_type": "code",
      "metadata": {
        "id": "mE_gWDHM3xb2",
        "colab": {
          "base_uri": "https://localhost:8080/"
        },
        "outputId": "efde1d94-39ce-4573-f046-ce2c53b1e7bb"
      },
      "source": [
        "print(generate_text(model, start_string=\"I'm free now\", temperature=1.0))"
      ],
      "execution_count": null,
      "outputs": [
        {
          "output_type": "stream",
          "text": [
            "I'm free now?\n",
            "Bre tin.\n",
            "OLI utintouby cren h ispurerar, rthan d sow r th whises scl f otethe bolerist gat?\n",
            "Fingh, th othowice charilore\n",
            "\n",
            "Buseno d thomiamatho.\n",
            "ANTores aran's athoun:\n",
            "NI MENO he the sthis th pll th theal ped ate p fareathe h h h fee nds fon, illisathese'en inlderinsouthenouth de h k! w rastes tiserache:\n",
            "Ho sththous thenonovered h sthothe he rceange me s an, cheare the.\n",
            "Prean ta\n",
            "Fou mecrr' mon Lounean winowis; fo thethe es, thowe bldor thart!'s,\n",
            "G mak e nokimatinsththe acumecory fodo co, An merr'd, wete, 'sthe weaime le t, temeay the m th llf He, indy bund y.\n",
            "II toourureay wngeave leed monethan cucooul jeilve.\n",
            "LI se s d t bacare, meill quchesheme 'sh tartheramersoved He wh w frt geed Ger thay wanceres Caldritofothaslitharseritomeso me aspene merimetenckevetholourid,\n",
            "IETh\n",
            "Ciolin n s foobleimo\n",
            "Berm d waklidesano'sederetor' thesped w thardangilld tinede.\n",
            "Woat'd cachandever, y brean Wh inghin tal tr in is acheringisexfadsin.\n",
            "TEde sh hake ders masie s the carindy heredres an thevinde warta\n"
          ],
          "name": "stdout"
        }
      ]
    },
    {
      "cell_type": "code",
      "metadata": {
        "id": "YqrfvqgT31Jk"
      },
      "source": [
        ""
      ],
      "execution_count": null,
      "outputs": []
    }
  ]
}